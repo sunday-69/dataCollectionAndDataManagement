{
  "nbformat": 4,
  "nbformat_minor": 0,
  "metadata": {
    "colab": {
      "provenance": []
    },
    "kernelspec": {
      "name": "python3",
      "display_name": "Python 3"
    },
    "language_info": {
      "name": "python"
    }
  },
  "cells": [
    {
      "cell_type": "markdown",
      "source": [
        "Converting JSON string to Python Object"
      ],
      "metadata": {
        "id": "8uYhpnhfJpp4"
      }
    },
    {
      "cell_type": "code",
      "source": [
        "country = '{\"name\": \"United States\", \"population\": 331002651}'\n",
        "print(type(country))"
      ],
      "metadata": {
        "colab": {
          "base_uri": "https://localhost:8080/"
        },
        "id": "zWjZAbd6JcIf",
        "outputId": "2b3d0a1a-f2ae-4515-d01c-21ec0177ae56"
      },
      "execution_count": null,
      "outputs": [
        {
          "output_type": "stream",
          "name": "stdout",
          "text": [
            "<class 'str'>\n"
          ]
        }
      ]
    },
    {
      "cell_type": "code",
      "source": [
        "import json\n",
        "\n",
        "country = '{\"name\": \"United States\", \"population\": 331002651}'\n",
        "country_dict = json.loads(country)\n",
        "\n",
        "print(type(country))\n",
        "print(type(country_dict))"
      ],
      "metadata": {
        "colab": {
          "base_uri": "https://localhost:8080/"
        },
        "id": "9oshS9DBJywB",
        "outputId": "ca3c425c-8599-42bd-9f98-6a4dd01fdd2e"
      },
      "execution_count": null,
      "outputs": [
        {
          "output_type": "stream",
          "name": "stdout",
          "text": [
            "<class 'str'>\n",
            "<class 'dict'>\n"
          ]
        }
      ]
    },
    {
      "cell_type": "code",
      "source": [
        "print(country_dict['name'])"
      ],
      "metadata": {
        "colab": {
          "base_uri": "https://localhost:8080/"
        },
        "id": "KcVmju2WJ6WG",
        "outputId": "337c59b0-628c-454d-c3ab-54620dc1c193"
      },
      "execution_count": null,
      "outputs": [
        {
          "output_type": "stream",
          "name": "stdout",
          "text": [
            "United States\n"
          ]
        }
      ]
    },
    {
      "cell_type": "code",
      "source": [
        "countries = '[\"United States\", \"Canada\"]'\n",
        "counties_list= json.loads(countries)\n",
        "\n",
        "print(type(counties_list))"
      ],
      "metadata": {
        "colab": {
          "base_uri": "https://localhost:8080/"
        },
        "id": "FFZM_xzvKACv",
        "outputId": "6579f9fe-6d84-4efa-95e7-d1aee559fe52"
      },
      "execution_count": null,
      "outputs": [
        {
          "output_type": "stream",
          "name": "stdout",
          "text": [
            "<class 'list'>\n"
          ]
        }
      ]
    },
    {
      "cell_type": "code",
      "source": [
        "import json\n",
        " \n",
        "bool_string = 'true'\n",
        "bool_type = json.loads(bool_string)\n",
        "print(bool_type)"
      ],
      "metadata": {
        "colab": {
          "base_uri": "https://localhost:8080/"
        },
        "id": "cNVuWAX0KD4W",
        "outputId": "b46fa0e3-7db9-4775-ab1c-0f70fc2fb87a"
      },
      "execution_count": null,
      "outputs": [
        {
          "output_type": "stream",
          "name": "stdout",
          "text": [
            "True\n"
          ]
        }
      ]
    },
    {
      "cell_type": "markdown",
      "source": [
        "Converting JSON file to Python object\n",
        "\n",
        "Save the following JSON data as a new file and name it united_states.json:\n"
      ],
      "metadata": {
        "id": "qAN53_i5KImj"
      }
    },
    {
      "cell_type": "code",
      "source": [
        "import json\n",
        " \n",
        "# Data to be written\n",
        "dictionary = {\n",
        "   \"name\": \"United States\",\n",
        "   \"population\": 331002651,\n",
        "   \"capital\": \"Washington D.C.\",\n",
        "   \"languages\": [\n",
        "      \"English\",\n",
        "      \"Spanish\"\n",
        "   ]\n",
        "}\n",
        " \n",
        "# Serializing json\n",
        "json_object = json.dumps(dictionary, indent=4)\n",
        " \n",
        "# Writing to sample.json\n",
        "with open(\"united_states.json\", \"w\") as outfile:\n",
        "    outfile.write(json_object)"
      ],
      "metadata": {
        "id": "N3GezAJ_KM80"
      },
      "execution_count": null,
      "outputs": []
    },
    {
      "cell_type": "code",
      "source": [
        "import json\n",
        "\n",
        "with open('united_states.json') as f:\n",
        "  data = json.load(f)\n",
        "\n",
        "print(type(data))"
      ],
      "metadata": {
        "colab": {
          "base_uri": "https://localhost:8080/"
        },
        "id": "xHeNudCUOYFI",
        "outputId": "5e646411-d69b-47d1-bf8e-643d4f437301"
      },
      "execution_count": null,
      "outputs": [
        {
          "output_type": "stream",
          "name": "stdout",
          "text": [
            "<class 'dict'>\n"
          ]
        }
      ]
    },
    {
      "cell_type": "code",
      "source": [
        "print(data.keys())"
      ],
      "metadata": {
        "colab": {
          "base_uri": "https://localhost:8080/"
        },
        "id": "jzLHzum4OvHj",
        "outputId": "7ef73a35-49b2-428e-d3be-7f0fddeae2d1"
      },
      "execution_count": null,
      "outputs": [
        {
          "output_type": "stream",
          "name": "stdout",
          "text": [
            "dict_keys(['name', 'population', 'capital', 'languages'])\n"
          ]
        }
      ]
    },
    {
      "cell_type": "code",
      "source": [
        "data['name']"
      ],
      "metadata": {
        "colab": {
          "base_uri": "https://localhost:8080/",
          "height": 35
        },
        "id": "9ssj0B_zOzUy",
        "outputId": "50082e44-a540-40bc-fdbf-fe5186d7b6b7"
      },
      "execution_count": null,
      "outputs": [
        {
          "output_type": "execute_result",
          "data": {
            "text/plain": [
              "'United States'"
            ],
            "application/vnd.google.colaboratory.intrinsic+json": {
              "type": "string"
            }
          },
          "metadata": {},
          "execution_count": 13
        }
      ]
    },
    {
      "cell_type": "code",
      "source": [
        "import json\n",
        "\n",
        "languages = [\"English\",\"French\"]\n",
        "country = {\n",
        "    \"name\": \"Canada\",\n",
        "    \"population\": 37742154,\n",
        "    \"languages\": languages,\n",
        "    \"president\": None,\n",
        "}\n",
        "\n",
        "country_string = json.dumps(country)\n",
        "print(country_string)"
      ],
      "metadata": {
        "colab": {
          "base_uri": "https://localhost:8080/"
        },
        "id": "26QSpHKTO2P7",
        "outputId": "6e5d4c33-eee2-44d5-9673-d9c2fd5e401d"
      },
      "execution_count": null,
      "outputs": [
        {
          "output_type": "stream",
          "name": "stdout",
          "text": [
            "{\"name\": \"Canada\", \"population\": 37742154, \"languages\": [\"English\", \"French\"], \"president\": null}\n"
          ]
        }
      ]
    },
    {
      "cell_type": "code",
      "source": [
        "import json\n",
        "\n",
        "languages = [\"English\", \"French\"]\n",
        "\n",
        "languages_string = json.dumps(languages)\n",
        "print(languages_string)"
      ],
      "metadata": {
        "colab": {
          "base_uri": "https://localhost:8080/"
        },
        "id": "LYI92o_OO6Be",
        "outputId": "3f84ee9a-0922-4a86-e5a6-98f996941a57"
      },
      "execution_count": null,
      "outputs": [
        {
          "output_type": "stream",
          "name": "stdout",
          "text": [
            "[\"English\", \"French\"]\n"
          ]
        }
      ]
    },
    {
      "cell_type": "markdown",
      "source": [
        "Writing Python object to a JSON file"
      ],
      "metadata": {
        "id": "zwlHsBeDPEN9"
      }
    },
    {
      "cell_type": "code",
      "source": [
        "import json\n",
        "\n",
        "# Tuple is encoded to JSON array.\n",
        "languages = (\"English\", \"French\")\n",
        "# Dictionary is encoded to JSON object.\n",
        "country = {\n",
        "    \"name\": \"Canada\",\n",
        "    \"population\": 37742154,\n",
        "    \"languages\": languages,\n",
        "    \"president\": None,\n",
        "}\n",
        "\n",
        "with open('countries_exported.json', 'w') as f:\n",
        "    json.dump(country, f, indent=4)"
      ],
      "metadata": {
        "id": "_2O6MQAMPFP3"
      },
      "execution_count": null,
      "outputs": []
    },
    {
      "cell_type": "markdown",
      "source": [
        "output of the above code part been written to a json file countries_exported.json in the files section"
      ],
      "metadata": {
        "id": "epjhDMkdoCeP"
      }
    },
    {
      "cell_type": "markdown",
      "source": [
        "Converting custom Python objects to JSON objects"
      ],
      "metadata": {
        "id": "CROfcsrloM8l"
      }
    },
    {
      "cell_type": "code",
      "source": [
        "import json\n",
        "\n",
        "class Country:\n",
        "    def __init__(self, name, population, languages):\n",
        "        self.name = name    \n",
        "        self.population = population\n",
        "        self.languages = languages\n",
        "\n",
        "    \n",
        "canada = Country(\"Canada\", 37742154, [\"English\", \"French\"])\n",
        "\n",
        "class CountryEncoder(json.JSONEncoder):\n",
        "    def default(self, o): \n",
        "        if isinstance(o, Country):\n",
        "           # JSON object would be a dictionary.\n",
        "\t\t        return {    \n",
        "                      \"name\" : o.name,\n",
        "                      \"population\": o.population,\n",
        "                      \"languages\": o.languages\n",
        "                   } \n",
        "        else:\n",
        "            # Base class will raise the TypeError.\n",
        "            return super().default(o)\n",
        "print(json.dumps(canada, cls=CountryEncoder))"
      ],
      "metadata": {
        "colab": {
          "base_uri": "https://localhost:8080/"
        },
        "id": "KsPtqoX5oBHa",
        "outputId": "720726b9-2331-4586-d444-f144f8fd1050"
      },
      "execution_count": null,
      "outputs": [
        {
          "output_type": "stream",
          "name": "stdout",
          "text": [
            "{\"name\": \"Canada\", \"population\": 37742154, \"languages\": [\"English\", \"French\"]}\n"
          ]
        }
      ]
    }
  ]
}