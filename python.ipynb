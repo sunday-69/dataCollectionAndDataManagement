{
  "nbformat": 4,
  "nbformat_minor": 0,
  "metadata": {
    "colab": {
      "provenance": []
    },
    "kernelspec": {
      "name": "python3",
      "display_name": "Python 3"
    },
    "language_info": {
      "name": "python"
    }
  },
  "cells": [
    {
      "cell_type": "code",
      "source": [
        "nums = [4, 2, 8, 23.4, 8, 9, 545, 9, 1, 234.001, 5, 49, 8, 9 , 34, 52, 1, -2, 9.1, 4]\n",
        "nums = nums[1:4] + nums[5:]\n",
        "print(nums)"
      ],
      "metadata": {
        "colab": {
          "base_uri": "https://localhost:8080/"
        },
        "id": "PNQsm-dPZueh",
        "outputId": "19cc2af9-3920-4627-c5f0-dc93afdb6009"
      },
      "execution_count": null,
      "outputs": [
        {
          "output_type": "stream",
          "name": "stdout",
          "text": [
            "[2, 8, 23.4, 9, 545, 9, 1, 234.001, 5, 49, 8, 9, 34, 52, 1, -2, 9.1, 4]\n"
          ]
        }
      ]
    },
    {
      "cell_type": "code",
      "source": [
        "rv = \"\"\"Once upon a midnight dreary, while I pondered, weak and weary,\n",
        "    Over many a quaint and curious volume of forgotten lore,\n",
        "    While I nodded, nearly napping, suddenly there came a tapping,\n",
        "    As of some one gently rapping, rapping at my chamber door.\n",
        "    'Tis some visitor, I muttered, tapping at my chamber door;\n",
        "    Only this and nothing more.\"\"\"\n",
        "\n",
        "# Write your code here!\n",
        "count = 0\n",
        "for char in rv:\n",
        "    count += 1\n",
        "num_chars = count\n",
        "print(num_chars)\n"
      ],
      "metadata": {
        "colab": {
          "base_uri": "https://localhost:8080/"
        },
        "id": "peKLUuHXZmfv",
        "outputId": "a583d572-7b57-4149-d9cb-524724cdac27"
      },
      "execution_count": null,
      "outputs": [
        {
          "output_type": "stream",
          "name": "stdout",
          "text": [
            "348\n"
          ]
        }
      ]
    },
    {
      "cell_type": "code",
      "source": [
        "julia = (\"Julia\", \"Roger\", 1967, \"Duplicity\", 2009, \"Actress\", \"Atlantic\")\n",
        "print(julia[2])\n",
        "print(julia[2:6])\n",
        "\n",
        "print(len(julia))\n",
        "\n",
        "julia = julia[:3] + (\"Eat pray Love\", 2010) + julia[5:]\n",
        "print(julia)\n"
      ],
      "metadata": {
        "colab": {
          "base_uri": "https://localhost:8080/"
        },
        "id": "iXV1pQByZ1af",
        "outputId": "512444d0-3839-436d-a317-58f6f3646ea3"
      },
      "execution_count": null,
      "outputs": [
        {
          "output_type": "stream",
          "name": "stdout",
          "text": [
            "1967\n",
            "(1967, 'Duplicity', 2009, 'Actress')\n",
            "7\n",
            "('Julia', 'Roger', 1967, 'Eat pray Love', 2010, 'Actress', 'Atlantic')\n"
          ]
        }
      ]
    },
    {
      "cell_type": "markdown",
      "source": [
        "NESTED DATA"
      ],
      "metadata": {
        "id": "Ehh_6iM4Z8u4"
      }
    },
    {
      "cell_type": "code",
      "source": [
        "nested1 = [['a', 'b', 'c'],['d', 'e'],['f', 'g', 'h']]\n",
        "print(nested1[0])\n",
        "print(len(nested1))\n",
        "nested1.append(['i'])\n",
        "print(\"-------\")\n",
        "for L in nested1:\n",
        "    print(L)\n"
      ],
      "metadata": {
        "colab": {
          "base_uri": "https://localhost:8080/"
        },
        "id": "aVAFFmUzZ4tl",
        "outputId": "31eee2fa-9e54-4a20-abab-921c8c5859d5"
      },
      "execution_count": null,
      "outputs": [
        {
          "output_type": "stream",
          "name": "stdout",
          "text": [
            "['a', 'b', 'c']\n",
            "3\n",
            "-------\n",
            "['a', 'b', 'c']\n",
            "['d', 'e']\n",
            "['f', 'g', 'h']\n",
            "['i']\n"
          ]
        }
      ]
    },
    {
      "cell_type": "code",
      "source": [
        "nested1 = [['a', 'b', 'c'],['d', 'e'],['f', 'g', 'h']]\n",
        "y = nested1[1]\n",
        "print(y)\n",
        "print(y[0])\n",
        "\n",
        "print([10, 20, 30][1])\n",
        "print(nested1[1][0])\n"
      ],
      "metadata": {
        "colab": {
          "base_uri": "https://localhost:8080/"
        },
        "id": "WAOjY52naDFj",
        "outputId": "c414ed4d-fa32-4312-a2ed-ce3eccf7e57b"
      },
      "execution_count": null,
      "outputs": [
        {
          "output_type": "stream",
          "name": "stdout",
          "text": [
            "['d', 'e']\n",
            "d\n",
            "20\n",
            "d\n"
          ]
        }
      ]
    },
    {
      "cell_type": "code",
      "source": [
        "nested2 = [{'a': 1, 'b': 3}, {'a': 5, 'c': 90, 5: 50}, {'b': 3, 'c': \"yes\"}]\n",
        "\n",
        "#write code to print the value associated with key 'c' in the second dictionary (90)\n",
        "\n",
        "print(nested2[1]['c'])\n",
        "\n",
        "#write code to print the value associated with key 'b' in the third dictionary\n",
        "\n",
        "print(nested2[2]['b'])\n",
        "\n",
        "#add a fourth dictionary add the end of the list; print something to check your work.\n",
        "\n",
        "nested2.append({'d':5, 'e':9,'r':56})\n",
        "print(nested2)\n",
        "\n",
        "#change the value associated with 'c' in the third dictionary from \"yes\" to \"no\"; print something to check your work\n",
        "\n",
        "nested2[2]['c'] = 'no'\n",
        "print(nested2)\n"
      ],
      "metadata": {
        "colab": {
          "base_uri": "https://localhost:8080/"
        },
        "id": "ydRzAzSJaEju",
        "outputId": "f8555103-3a82-4f16-cfe2-3b7b0456dcf6"
      },
      "execution_count": null,
      "outputs": [
        {
          "output_type": "stream",
          "name": "stdout",
          "text": [
            "90\n",
            "3\n",
            "[{'a': 1, 'b': 3}, {'a': 5, 'c': 90, 5: 50}, {'b': 3, 'c': 'yes'}, {'d': 5, 'e': 9, 'r': 56}]\n",
            "[{'a': 1, 'b': 3}, {'a': 5, 'c': 90, 5: 50}, {'b': 3, 'c': 'no'}, {'d': 5, 'e': 9, 'r': 56}]\n"
          ]
        }
      ]
    },
    {
      "cell_type": "code",
      "source": [
        "def square(x):\n",
        "    return x*x\n",
        "\n",
        "L = [square, abs, lambda x: x+1]\n",
        "\n",
        "print(\"****names****\")\n",
        "for f in L:\n",
        "    print(f)\n",
        "\n",
        "print(\"****call each of them****\")\n",
        "for f in L:\n",
        "    print(f(-2))\n",
        "\n",
        "print(\"****just the first one in the list****\")\n",
        "print(L[0])\n",
        "print(L[0](3))\n"
      ],
      "metadata": {
        "colab": {
          "base_uri": "https://localhost:8080/"
        },
        "id": "ZhJLU_afaIZv",
        "outputId": "b4159464-70ef-4dad-f735-8e2083d3e967"
      },
      "execution_count": null,
      "outputs": [
        {
          "output_type": "stream",
          "name": "stdout",
          "text": [
            "****names****\n",
            "<function square at 0x7f20b8ebae50>\n",
            "<built-in function abs>\n",
            "<function <lambda> at 0x7f20b8ebac10>\n",
            "****call each of them****\n",
            "4\n",
            "2\n",
            "-1\n",
            "****just the first one in the list****\n",
            "<function square at 0x7f20b8ebae50>\n",
            "9\n"
          ]
        }
      ]
    },
    {
      "cell_type": "code",
      "source": [
        "animals = [['cat', 'dog', 'mouse'], ['horse', 'cow', 'goat'], ['cheetah', 'giraffe', 'rhino']]\n",
        "\n",
        "idx1 = animals[1][0]\n"
      ],
      "metadata": {
        "id": "sK92Vv3naXFy"
      },
      "execution_count": null,
      "outputs": []
    },
    {
      "cell_type": "code",
      "source": [
        "data = ['bagel', 'cream cheese', 'breakfast', 'grits', 'eggs', 'bacon', [34, 9, 73, []], [['willow', 'birch', 'elm'], 'apple', 'peach', 'cherry']]\n",
        "\n",
        "plant = data[7][0][0]\n",
        "print(plant)"
      ],
      "metadata": {
        "colab": {
          "base_uri": "https://localhost:8080/"
        },
        "id": "_zd9FFwiae9f",
        "outputId": "96180741-2a28-46b5-f099-898ca5a850da"
      },
      "execution_count": null,
      "outputs": [
        {
          "output_type": "stream",
          "name": "stdout",
          "text": [
            "willow\n"
          ]
        }
      ]
    },
    {
      "cell_type": "code",
      "source": [
        "d = {'key1': {'a': 5, 'c': 90, 5: 50}, 'key2':{'b': 3, 'c': \"yes\"}}\n",
        "\n",
        "\n",
        "     \n",
        "\n",
        "d[5] = {1:2,3:4}\n",
        "\n",
        "\n",
        "     \n",
        "\n",
        "d['key1']['d'] = d['key2']\n",
        "print(d)\n"
      ],
      "metadata": {
        "colab": {
          "base_uri": "https://localhost:8080/"
        },
        "id": "pQIF6lX-ak1h",
        "outputId": "89331148-78a3-4520-8b9b-3d513d9f4b59"
      },
      "execution_count": null,
      "outputs": [
        {
          "output_type": "stream",
          "name": "stdout",
          "text": [
            "{'key1': {'a': 5, 'c': 90, 5: 50, 'd': {'b': 3, 'c': 'yes'}}, 'key2': {'b': 3, 'c': 'yes'}, 5: {1: 2, 3: 4}}\n"
          ]
        }
      ]
    },
    {
      "cell_type": "code",
      "source": [
        "info = {'personal_data':\n",
        "         {'name': 'Lauren',\n",
        "          'age': 20,\n",
        "          'major': 'Information Science',\n",
        "          'physical_features':\n",
        "             {'color': {'eye': 'blue',\n",
        "                        'hair': 'brown'},\n",
        "              'height': \"5'8\"}\n",
        "         },\n",
        "       'other':\n",
        "         {'favorite_colors': ['purple', 'green', 'blue'],\n",
        "          'interested_in': ['social media', 'intellectual property', 'copyright', 'music', 'books']\n",
        "         }\n",
        "      }\n",
        "color = info['personal_data']['physical_features']['color']\n",
        "print(color)\n"
      ],
      "metadata": {
        "colab": {
          "base_uri": "https://localhost:8080/"
        },
        "id": "PtuKX3Kmaobc",
        "outputId": "60272b11-8df3-44ba-9c31-3ba94877ec28"
      },
      "execution_count": null,
      "outputs": [
        {
          "output_type": "stream",
          "name": "stdout",
          "text": [
            "{'eye': 'blue', 'hair': 'brown'}\n"
          ]
        }
      ]
    },
    {
      "cell_type": "markdown",
      "source": [
        "NESTED ITERATIONS"
      ],
      "metadata": {
        "id": "5KJlEvRgauap"
      }
    },
    {
      "cell_type": "code",
      "source": [
        "nested1 = [['a', 'b', 'c'],['d', 'e'],['f', 'g', 'h']]\n",
        "for x in nested1:\n",
        "    print(\"level1: \")\n",
        "    for y in x:\n",
        "        print(\"     level2: \" + y)\n"
      ],
      "metadata": {
        "colab": {
          "base_uri": "https://localhost:8080/"
        },
        "id": "GyHWa9_0axMO",
        "outputId": "1f8ad94f-6231-49f8-b376-89c5316acb01"
      },
      "execution_count": null,
      "outputs": [
        {
          "output_type": "stream",
          "name": "stdout",
          "text": [
            "level1: \n",
            "     level2: a\n",
            "     level2: b\n",
            "     level2: c\n",
            "level1: \n",
            "     level2: d\n",
            "     level2: e\n",
            "level1: \n",
            "     level2: f\n",
            "     level2: g\n",
            "     level2: h\n"
          ]
        }
      ]
    },
    {
      "cell_type": "code",
      "source": [
        "def count_leaves(n):\n",
        "    count = 0\n",
        "    for L in n:\n",
        "        count += 1\n",
        "    return count\n"
      ],
      "metadata": {
        "id": "ollaF1hUayvU"
      },
      "execution_count": null,
      "outputs": []
    },
    {
      "cell_type": "code",
      "source": [
        "info = [['Tina', 'Turner', 1939, 'singer'], ['Matt', 'Damon', 1970, 'actor'], \n",
        "        ['Kristen', 'Wiig', 1973, 'comedian'], ['Michael', 'Phelps', 1985, 'swimmer'], \n",
        "        ['Barack', 'Obama', 1961, 'president']]\n",
        "\n",
        "last_names = []\n",
        "for lst in info:\n",
        "    last_names.append(lst[1])\n",
        "last_names\n"
      ],
      "metadata": {
        "colab": {
          "base_uri": "https://localhost:8080/"
        },
        "id": "0mqTIawHa15h",
        "outputId": "628a0d71-2272-4232-9181-c31777a8640e"
      },
      "execution_count": null,
      "outputs": [
        {
          "output_type": "execute_result",
          "data": {
            "text/plain": [
              "['Turner', 'Damon', 'Wiig', 'Phelps', 'Obama']"
            ]
          },
          "metadata": {},
          "execution_count": 17
        }
      ]
    },
    {
      "cell_type": "code",
      "source": [
        "# 3. Below, we have provided a list of lists named L. Use nested iteration to save every \n",
        "# string containing “b” into a new list named b_strings.\n",
        "\n",
        "\n",
        "L = [['apples', 'bananas', 'oranges', 'blueberries', 'lemons'], \n",
        "     ['carrots', 'peas', 'cucumbers', 'green beans'], \n",
        "     ['root beer', 'smoothies', 'cranberry juice']]\n",
        "\n",
        "b_strings = []\n",
        "for lst in L:\n",
        "    for word in lst:\n",
        "        if 'b' in word:\n",
        "            b_strings.append(word)\n",
        "b_strings\n",
        "\n"
      ],
      "metadata": {
        "colab": {
          "base_uri": "https://localhost:8080/"
        },
        "id": "0h7sAjDJa5U5",
        "outputId": "b022c79a-cd4e-4f26-a543-7f1815b2039d"
      },
      "execution_count": null,
      "outputs": [
        {
          "output_type": "execute_result",
          "data": {
            "text/plain": [
              "['bananas',\n",
              " 'blueberries',\n",
              " 'cucumbers',\n",
              " 'green beans',\n",
              " 'root beer',\n",
              " 'cranberry juice']"
            ]
          },
          "metadata": {},
          "execution_count": 18
        }
      ]
    },
    {
      "cell_type": "markdown",
      "source": [
        "STRUCTURING NESTED DATA"
      ],
      "metadata": {
        "id": "DwLE6PR1bA-0"
      }
    },
    {
      "cell_type": "code",
      "source": [
        "nested1 = [1, 2, ['a', 'b', 'c'],['d', 'e'],['f', 'g', 'h']]\n",
        "for x in nested1:\n",
        "    print(\"level1: \")\n",
        "    for y in x:\n",
        "        print(\"     level2: {}\".format(y))\n"
      ],
      "metadata": {
        "colab": {
          "base_uri": "https://localhost:8080/",
          "height": 235
        },
        "id": "EOyhmeROa8nB",
        "outputId": "981fc00e-75fc-45e4-b778-0248ed226e3f"
      },
      "execution_count": null,
      "outputs": [
        {
          "output_type": "stream",
          "name": "stdout",
          "text": [
            "level1: \n"
          ]
        },
        {
          "output_type": "error",
          "ename": "TypeError",
          "evalue": "ignored",
          "traceback": [
            "\u001b[0;31m---------------------------------------------------------------------------\u001b[0m",
            "\u001b[0;31mTypeError\u001b[0m                                 Traceback (most recent call last)",
            "\u001b[0;32m<ipython-input-19-78cadb62132a>\u001b[0m in \u001b[0;36m<module>\u001b[0;34m\u001b[0m\n\u001b[1;32m      2\u001b[0m \u001b[0;32mfor\u001b[0m \u001b[0mx\u001b[0m \u001b[0;32min\u001b[0m \u001b[0mnested1\u001b[0m\u001b[0;34m:\u001b[0m\u001b[0;34m\u001b[0m\u001b[0;34m\u001b[0m\u001b[0m\n\u001b[1;32m      3\u001b[0m     \u001b[0mprint\u001b[0m\u001b[0;34m(\u001b[0m\u001b[0;34m\"level1: \"\u001b[0m\u001b[0;34m)\u001b[0m\u001b[0;34m\u001b[0m\u001b[0;34m\u001b[0m\u001b[0m\n\u001b[0;32m----> 4\u001b[0;31m     \u001b[0;32mfor\u001b[0m \u001b[0my\u001b[0m \u001b[0;32min\u001b[0m \u001b[0mx\u001b[0m\u001b[0;34m:\u001b[0m\u001b[0;34m\u001b[0m\u001b[0;34m\u001b[0m\u001b[0m\n\u001b[0m\u001b[1;32m      5\u001b[0m         \u001b[0mprint\u001b[0m\u001b[0;34m(\u001b[0m\u001b[0;34m\"     level2: {}\"\u001b[0m\u001b[0;34m.\u001b[0m\u001b[0mformat\u001b[0m\u001b[0;34m(\u001b[0m\u001b[0my\u001b[0m\u001b[0;34m)\u001b[0m\u001b[0;34m)\u001b[0m\u001b[0;34m\u001b[0m\u001b[0;34m\u001b[0m\u001b[0m\n",
            "\u001b[0;31mTypeError\u001b[0m: 'int' object is not iterable"
          ]
        }
      ]
    },
    {
      "cell_type": "code",
      "source": [
        "# We can solve this with special casing, a conditional that checks the type.\n",
        "\n",
        "nested1 = [1, 2, ['a', 'b', 'c'],['d', 'e'],['f', 'g', 'h']]\n",
        "for x in nested1:\n",
        "    print(\"level1: \")\n",
        "    if type(x) is list:\n",
        "        for y in x:\n",
        "            print(\"     level2: {}\".format(y))\n",
        "    else:\n",
        "        print(x)\n"
      ],
      "metadata": {
        "colab": {
          "base_uri": "https://localhost:8080/"
        },
        "id": "tFmLsSoTbHGe",
        "outputId": "81bd65c2-8123-4b56-a54e-7ab2239c5ed1"
      },
      "execution_count": null,
      "outputs": [
        {
          "output_type": "stream",
          "name": "stdout",
          "text": [
            "level1: \n",
            "1\n",
            "level1: \n",
            "2\n",
            "level1: \n",
            "     level2: a\n",
            "     level2: b\n",
            "     level2: c\n",
            "level1: \n",
            "     level2: d\n",
            "     level2: e\n",
            "level1: \n",
            "     level2: f\n",
            "     level2: g\n",
            "     level2: h\n"
          ]
        }
      ]
    },
    {
      "cell_type": "markdown",
      "source": [
        "DEEP AND SHALLOW COPIES"
      ],
      "metadata": {
        "id": "VWKhRcHYbLw5"
      }
    },
    {
      "cell_type": "code",
      "source": [
        "original = [['dogs', 'puppies'], ['cats', \"kittens\"]]\n",
        "copied_version = original[:]\n",
        "print(copied_version)\n",
        "print(copied_version is original)\n",
        "print(copied_version == original)\n",
        "original[0].append([\"canines\"])\n",
        "print(original)\n",
        "print(\"-------- Now look at the copied version -----------\")\n",
        "print(copied_version)\n"
      ],
      "metadata": {
        "colab": {
          "base_uri": "https://localhost:8080/"
        },
        "id": "N2NHXkExbKOp",
        "outputId": "26e170e8-f925-4fa0-9493-72653893471c"
      },
      "execution_count": null,
      "outputs": [
        {
          "output_type": "stream",
          "name": "stdout",
          "text": [
            "[['dogs', 'puppies'], ['cats', 'kittens']]\n",
            "False\n",
            "True\n",
            "[['dogs', 'puppies', ['canines']], ['cats', 'kittens']]\n",
            "-------- Now look at the copied version -----------\n",
            "[['dogs', 'puppies', ['canines']], ['cats', 'kittens']]\n"
          ]
        }
      ]
    },
    {
      "cell_type": "code",
      "source": [
        "original = [['dogs', 'puppies'], ['cats', \"kittens\"]]\n",
        "copied_outer_list = []\n",
        "for inner_list in original:\n",
        "    copied_inner_list = []\n",
        "    for item in inner_list:\n",
        "        copied_inner_list.append(item)\n",
        "    copied_outer_list.append(copied_inner_list)\n",
        "print(copied_outer_list)\n",
        "original[0].append([\"canines\"])\n",
        "print(original)\n",
        "print(\"-------- Now look at the copied version -----------\")\n",
        "print(copied_outer_list)"
      ],
      "metadata": {
        "id": "NDRrdyEkbQrt",
        "outputId": "f325be4f-83a7-401c-da23-1f7be7d48d18",
        "colab": {
          "base_uri": "https://localhost:8080/"
        }
      },
      "execution_count": null,
      "outputs": [
        {
          "output_type": "stream",
          "name": "stdout",
          "text": [
            "[['dogs', 'puppies'], ['cats', 'kittens']]\n",
            "[['dogs', 'puppies', ['canines']], ['cats', 'kittens']]\n",
            "-------- Now look at the copied version -----------\n",
            "[['dogs', 'puppies'], ['cats', 'kittens']]\n"
          ]
        }
      ]
    },
    {
      "cell_type": "code",
      "source": [
        "# Or , equivalently, you could take advantage of the slice operator to do the copying \n",
        "# of the inner list.\n",
        "\n",
        "original = [['dogs', 'puppies'], ['cats', \"kittens\"]]\n",
        "copied_outer_list = []\n",
        "for inner_list in original:\n",
        "    copied_inner_list = inner_list[:]\n",
        "    copied_outer_list.append(copied_inner_list)\n",
        "print(copied_outer_list)\n",
        "original[0].append([\"canines\"])\n",
        "print(original)\n",
        "print(\"-------- Now look at the copied version -----------\")\n",
        "print(copied_outer_list)\n"
      ],
      "metadata": {
        "id": "UfuifWsqbU6e",
        "outputId": "ce7bfadf-ce1d-4b03-ae70-cfcbf6efd1f8",
        "colab": {
          "base_uri": "https://localhost:8080/"
        }
      },
      "execution_count": null,
      "outputs": [
        {
          "output_type": "stream",
          "name": "stdout",
          "text": [
            "[['dogs', 'puppies'], ['cats', 'kittens']]\n",
            "[['dogs', 'puppies', ['canines']], ['cats', 'kittens']]\n",
            "-------- Now look at the copied version -----------\n",
            "[['dogs', 'puppies'], ['cats', 'kittens']]\n"
          ]
        }
      ]
    },
    {
      "cell_type": "code",
      "execution_count": null,
      "metadata": {
        "colab": {
          "base_uri": "https://localhost:8080/"
        },
        "id": "rL3-fvCJbCni",
        "outputId": "24096055-b5a0-4b7a-ac72-121d9a72f985"
      },
      "outputs": [
        {
          "output_type": "stream",
          "name": "stdout",
          "text": [
            "[0, 100, [200, 3]]\n",
            "[0, 100, [200, 3]]\n",
            "[0, 1, [200, 3]]\n",
            "[0, 1, [2, 3]]\n"
          ]
        }
      ],
      "source": [
        "import copy\n",
        "x = [0, 1, [2, 3]]\n",
        "x_assign = x                       \n",
        "x_copy = x.copy()              \n",
        "x_deepcopy = copy.deepcopy(x) \n",
        "x[1] = 100\n",
        "x[2][0] = 200\n",
        "print(x)\n",
        "print(x_assign)\n",
        "print(x_copy)\n",
        "print(x_deepcopy)\n"
      ]
    },
    {
      "cell_type": "code",
      "source": [
        "def square(x):\n",
        "    return x*x\n",
        "\n",
        "L = [square, abs, lambda x: x+1]\n",
        "\n",
        "print(\"****names****\")\n",
        "for f in L:\n",
        "    print(f)\n",
        "\n",
        "print(\"****call each of them****\")\n",
        "for f in L:\n",
        "    print(f(-2))\n",
        "\n",
        "print(\"****just the first one in the list****\")\n",
        "print(L[0])\n",
        "print(L[0](3))"
      ],
      "metadata": {
        "colab": {
          "base_uri": "https://localhost:8080/"
        },
        "id": "7Nbp-TPnZEly",
        "outputId": "e6049614-aa14-4acd-fd37-5c11466c3e61"
      },
      "execution_count": null,
      "outputs": [
        {
          "output_type": "stream",
          "name": "stdout",
          "text": [
            "****names****\n",
            "<function square at 0x7f20b8eba0d0>\n",
            "<built-in function abs>\n",
            "<function <lambda> at 0x7f20b8eba820>\n",
            "****call each of them****\n",
            "4\n",
            "2\n",
            "-1\n",
            "****just the first one in the list****\n",
            "<function square at 0x7f20b8eba0d0>\n",
            "9\n"
          ]
        }
      ]
    }
  ]
}