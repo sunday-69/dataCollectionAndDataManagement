{
  "nbformat": 4,
  "nbformat_minor": 0,
  "metadata": {
    "colab": {
      "provenance": []
    },
    "kernelspec": {
      "name": "python3",
      "display_name": "Python 3"
    },
    "language_info": {
      "name": "python"
    }
  },
  "cells": [
    {
      "cell_type": "markdown",
      "source": [
        "# **lambda()**"
      ],
      "metadata": {
        "id": "MJkCuJMrNnek"
      }
    },
    {
      "cell_type": "markdown",
      "source": [
        "While normal functions are defined using the def keyword, in Python anonymous functions are defined using the lambda keyword. Hence, anonymous functions are also called lambda functions.\n",
        "\n",
        "Lambda function can use any quantity of parameter, but only have one expression\n",
        "\n",
        "Syntax: lambda argument: manipulate(argument)\n"
      ],
      "metadata": {
        "id": "SlV-yh_SNrj2"
      }
    },
    {
      "cell_type": "code",
      "source": [
        "add_one = lambda x: x+1\n",
        "add_sum = lambda x, y: x+y\n",
        "\n",
        "print(add_one(2))\n",
        "print(add_sum(5, 5))"
      ],
      "metadata": {
        "colab": {
          "base_uri": "https://localhost:8080/"
        },
        "id": "bPfIK_QMN1x6",
        "outputId": "3f7063dd-f8ca-42de-cf92-2834cc7aeb5e"
      },
      "execution_count": null,
      "outputs": [
        {
          "output_type": "stream",
          "name": "stdout",
          "text": [
            "3\n",
            "10\n"
          ]
        }
      ]
    },
    {
      "cell_type": "markdown",
      "source": [
        "# MAP() "
      ],
      "metadata": {
        "id": "nlnqAL6mJRjh"
      }
    },
    {
      "cell_type": "markdown",
      "source": [
        "map() function \n",
        "\n",
        "simple syntax: map(func, iterable)\n",
        "\n",
        "parameter: func is an function that map() pass to the every elements in the iterable object, the iterable is an object that has __iter__ attribute, so every elements can execute the func\n",
        "\n",
        "return value: a map object"
      ],
      "metadata": {
        "id": "WqsyXlw8Mykp"
      }
    },
    {
      "cell_type": "markdown",
      "source": [
        "Assume we have a list that contain 1 - 5 digits, we want to every number add 1, **before map() function**, most likely we will do this:"
      ],
      "metadata": {
        "id": "bDR0mNqvKDpB"
      }
    },
    {
      "cell_type": "code",
      "execution_count": null,
      "metadata": {
        "colab": {
          "base_uri": "https://localhost:8080/"
        },
        "id": "hkgQKTEdJNrz",
        "outputId": "b59e7c6c-8986-4027-d067-0cc02a7d5f92"
      },
      "outputs": [
        {
          "output_type": "stream",
          "name": "stdout",
          "text": [
            "[2, 3, 4, 5, 6]\n"
          ]
        }
      ],
      "source": [
        "numbers = [1, 2, 3, 4, 5]\n",
        "for i in range(0, len(numbers)):\n",
        "    numbers[i] += 1\n",
        "print(numbers)"
      ]
    },
    {
      "cell_type": "markdown",
      "source": [
        "**After map() function:**"
      ],
      "metadata": {
        "id": "MB3niIalKVAm"
      }
    },
    {
      "cell_type": "code",
      "source": [
        "def add_one(n):\n",
        "    return n+1\n",
        "\n",
        "numbers = [1, 2, 3, 4, 5]\n",
        "result = map(add_one, numbers)\n",
        "print(result)\n",
        "print(type(result))\n",
        "print(list(result))"
      ],
      "metadata": {
        "colab": {
          "base_uri": "https://localhost:8080/"
        },
        "id": "lImXTaoFKaMF",
        "outputId": "4b4939f1-434a-4974-d934-cce8b7f5ea51"
      },
      "execution_count": null,
      "outputs": [
        {
          "output_type": "stream",
          "name": "stdout",
          "text": [
            "<map object at 0x7fe88d3bbc10>\n",
            "<class 'map'>\n",
            "[2, 3, 4, 5, 6]\n"
          ]
        }
      ]
    },
    {
      "cell_type": "markdown",
      "source": [
        "Notice the beauty of map(), **Loops eliminated** in an efficient and simple way. \n",
        "The map() function will return a map object. \n",
        "This object type will help us to **save the memory utilization**, we use the **getsizeof() function** from sys to see the memory utilization of each object, **map object and list**."
      ],
      "metadata": {
        "id": "BiLFzlFRKpBc"
      }
    },
    {
      "cell_type": "code",
      "source": [
        "from sys import getsizeof\n",
        "print(f'The size of map object in memory is {getsizeof(result)} bytes')\n",
        "print(f'Convert it into list: {getsizeof(list(result))} bytes')"
      ],
      "metadata": {
        "colab": {
          "base_uri": "https://localhost:8080/"
        },
        "id": "VK-ns_nCK7lj",
        "outputId": "3fb50dbe-edf1-417d-ff48-46a22753eb94"
      },
      "execution_count": null,
      "outputs": [
        {
          "output_type": "stream",
          "name": "stdout",
          "text": [
            "The size of map object in memory is 48 bytes\n",
            "Convert it into list: 56 bytes\n"
          ]
        }
      ]
    },
    {
      "cell_type": "markdown",
      "source": [
        "The requirement of object to passed in map() function is iterable so as long as the object has attribute of __iter__ it works, **not only list, but also tuple**, such as:"
      ],
      "metadata": {
        "id": "qqLXjBJ7LbqQ"
      }
    },
    {
      "cell_type": "code",
      "source": [
        "numbers = (1, 2, 3, 4, 5)\n",
        "print(f\"Is tuple numbers iterable? Answer: {hasattr(numbers, '__iter__')}\")\n",
        "\n",
        "result = map(add_one, numbers)\n",
        "print(result)\n",
        "print(type(result))\n",
        "print(tuple(result))"
      ],
      "metadata": {
        "colab": {
          "base_uri": "https://localhost:8080/"
        },
        "id": "Ohf7KZmgLfj7",
        "outputId": "ebfea774-9aa5-4e5f-a4f3-4cebf632c4e5"
      },
      "execution_count": null,
      "outputs": [
        {
          "output_type": "stream",
          "name": "stdout",
          "text": [
            "Is tuple numbers iterable? Answer: True\n",
            "<map object at 0x7fe891eece50>\n",
            "<class 'map'>\n",
            "(2, 3, 4, 5, 6)\n"
          ]
        }
      ]
    },
    {
      "cell_type": "markdown",
      "source": [
        "**Usage of lambda**"
      ],
      "metadata": {
        "id": "2aoJCes2Lsvr"
      }
    },
    {
      "cell_type": "code",
      "source": [
        "numbers = (1, 2, 3, 4, 5)\n",
        "result = map(lambda x: x + 1, numbers)\n",
        "print(tuple(result))"
      ],
      "metadata": {
        "colab": {
          "base_uri": "https://localhost:8080/"
        },
        "id": "zZtpQOMPLwKx",
        "outputId": "ef510f01-b212-4506-acbe-e7e66d4ec23b"
      },
      "execution_count": null,
      "outputs": [
        {
          "output_type": "stream",
          "name": "stdout",
          "text": [
            "(2, 3, 4, 5, 6)\n"
          ]
        }
      ]
    },
    {
      "cell_type": "code",
      "source": [
        "# list of strings\n",
        "words = ['Singapore', 'Guangzhou', 'Tokyo']\n",
        "\n",
        "# convert every elements in the array into List\n",
        "converted = list(map(list, words))\n",
        "print(converted)\n",
        "print(f\"The type of converted: {type(converted)}\")\n",
        "print(f\"The lenght of converted: {len(converted)}\")"
      ],
      "metadata": {
        "colab": {
          "base_uri": "https://localhost:8080/"
        },
        "id": "AGie0vtaMF3E",
        "outputId": "049d5d0d-5ced-480f-bec1-65cefbada313"
      },
      "execution_count": null,
      "outputs": [
        {
          "output_type": "stream",
          "name": "stdout",
          "text": [
            "[['S', 'i', 'n', 'g', 'a', 'p', 'o', 'r', 'e'], ['G', 'u', 'a', 'n', 'g', 'z', 'h', 'o', 'u'], ['T', 'o', 'k', 'y', 'o']]\n",
            "The type of converted: <class 'list'>\n",
            "The lenght of converted: 3\n"
          ]
        }
      ]
    },
    {
      "cell_type": "markdown",
      "source": [
        "words is a list that contain string type of elements, we can use map() and Python bulit-in list to convert every elements in words into List, but do take note, every elements must have __iter__ attribute, otherwise, it will raise TypeError, such as int type:"
      ],
      "metadata": {
        "id": "a7C5cCtOMNZz"
      }
    },
    {
      "cell_type": "code",
      "source": [
        "numbers = [3, '23', 42]\n",
        "print(list(map(list, numbers)))"
      ],
      "metadata": {
        "colab": {
          "base_uri": "https://localhost:8080/",
          "height": 183
        },
        "id": "gYamCdmsMIVc",
        "outputId": "e58289b5-d756-4016-c8c3-6bc91fbdcec8"
      },
      "execution_count": null,
      "outputs": [
        {
          "output_type": "error",
          "ename": "TypeError",
          "evalue": "ignored",
          "traceback": [
            "\u001b[0;31m---------------------------------------------------------------------------\u001b[0m",
            "\u001b[0;31mTypeError\u001b[0m                                 Traceback (most recent call last)",
            "\u001b[0;32m<ipython-input-7-58446c133a68>\u001b[0m in \u001b[0;36m<module>\u001b[0;34m\u001b[0m\n\u001b[1;32m      1\u001b[0m \u001b[0mnumbers\u001b[0m \u001b[0;34m=\u001b[0m \u001b[0;34m[\u001b[0m\u001b[0;36m3\u001b[0m\u001b[0;34m,\u001b[0m \u001b[0;34m'23'\u001b[0m\u001b[0;34m,\u001b[0m \u001b[0;36m42\u001b[0m\u001b[0;34m]\u001b[0m\u001b[0;34m\u001b[0m\u001b[0;34m\u001b[0m\u001b[0m\n\u001b[0;32m----> 2\u001b[0;31m \u001b[0mprint\u001b[0m\u001b[0;34m(\u001b[0m\u001b[0mlist\u001b[0m\u001b[0;34m(\u001b[0m\u001b[0mmap\u001b[0m\u001b[0;34m(\u001b[0m\u001b[0mlist\u001b[0m\u001b[0;34m,\u001b[0m \u001b[0mnumbers\u001b[0m\u001b[0;34m)\u001b[0m\u001b[0;34m)\u001b[0m\u001b[0;34m)\u001b[0m\u001b[0;34m\u001b[0m\u001b[0;34m\u001b[0m\u001b[0m\n\u001b[0m",
            "\u001b[0;31mTypeError\u001b[0m: 'int' object is not iterable"
          ]
        }
      ]
    },
    {
      "cell_type": "markdown",
      "source": [
        "Can be avoided by the following way"
      ],
      "metadata": {
        "id": "hadE8kuuMUMl"
      }
    },
    {
      "cell_type": "code",
      "source": [
        "numbers = [3, '23', 42]\n",
        "print(list(map(float, numbers)))"
      ],
      "metadata": {
        "colab": {
          "base_uri": "https://localhost:8080/"
        },
        "id": "0tJM7pQhMY6d",
        "outputId": "388d848c-2ba1-4c06-ff26-c053eb29e283"
      },
      "execution_count": null,
      "outputs": [
        {
          "output_type": "stream",
          "name": "stdout",
          "text": [
            "[3.0, 23.0, 42.0]\n"
          ]
        }
      ]
    },
    {
      "cell_type": "code",
      "source": [
        "university = [{'name': 'NYU', \n",
        "               'city': 'New York'}, \n",
        "              {'name': 'NUS', \n",
        "               'city': \"Singapore\"}]\n",
        "\n",
        "names = list(map(lambda x: x['name'], university))\n",
        "print(names)"
      ],
      "metadata": {
        "colab": {
          "base_uri": "https://localhost:8080/"
        },
        "id": "Xz3cxiefOE9h",
        "outputId": "fb1bd3b2-fb49-4661-a49d-3560be323164"
      },
      "execution_count": null,
      "outputs": [
        {
          "output_type": "stream",
          "name": "stdout",
          "text": [
            "['NYU', 'NUS']\n"
          ]
        }
      ]
    },
    {
      "cell_type": "markdown",
      "source": [
        "# **filter()**"
      ],
      "metadata": {
        "id": "6U1q4_DmMcHB"
      }
    },
    {
      "cell_type": "markdown",
      "source": [
        "filter() function is using a function to \"filter\" the sequence, the function is going to examinate every elements in the sequence is True or False\n",
        "\n",
        "\n",
        "filter() syntax: filter(func, iterable)\n",
        "\n",
        "Parameter: func test iterable sequances' elements is True or False, iterable is the iterable sequances that been filter\n",
        "\n",
        "Return value: an iterable sequance that every elements is True to the filter function func\n",
        "\n",
        "Layman term: filter() is to filter a set of data based on the given conditions"
      ],
      "metadata": {
        "id": "1fcP1C9bMkmC"
      }
    },
    {
      "cell_type": "code",
      "source": [
        "# filter vowel\n",
        "def func(variable):\n",
        "    letters = ['a', 'e', 'i', 'o', 'u']\n",
        "    if (variable.lower() in letters):\n",
        "        return True\n",
        "    else:\n",
        "        return False\n",
        "\n",
        "# given sequance\n",
        "sequance = ['I', 'l', 'o', 'v', 'e', 'p', 'y', 't', 'h', 'o', 'n']\n",
        "\n",
        "filtered = list(filter(func, sequance))\n",
        "print(f\"The vowel in the sequance is {filtered}\")"
      ],
      "metadata": {
        "colab": {
          "base_uri": "https://localhost:8080/"
        },
        "id": "tMjwHKWqMgre",
        "outputId": "55f8a12a-7309-4f78-98ed-eb4d24ad8250"
      },
      "execution_count": null,
      "outputs": [
        {
          "output_type": "stream",
          "name": "stdout",
          "text": [
            "The vowel in the sequance is ['I', 'o', 'e', 'o']\n"
          ]
        }
      ]
    },
    {
      "cell_type": "markdown",
      "source": [
        "So, how to use filter() function is quite simple:\n",
        "\n",
        "\n",
        "1.   Define a method that can filter out True or False\n",
        "\n",
        "2.   Apply it to iterable object\n",
        "\n",
        "3.   Integrate it into your bigger code block\n",
        "\n"
      ],
      "metadata": {
        "id": "7puEWmF6NHdD"
      }
    },
    {
      "cell_type": "code",
      "source": [
        "# odd number\n",
        "odd_number = filter(lambda x: x % 2, numbers)\n",
        "print(f\"The odd number is {list(odd_number)}.\")\n",
        "\n",
        "# even number\n",
        "even_number = filter(lambda x: x % 2 == 0, numbers)\n",
        "print(f\"The even number is {list(even_number)}.\")\n",
        "\n",
        "# positive number\n",
        "positive_number = filter(lambda x: x > 0, numbers)\n",
        "print(f\"The positive number is {list(positive_number)}.\")"
      ],
      "metadata": {
        "colab": {
          "base_uri": "https://localhost:8080/"
        },
        "id": "EJguUETbNgaF",
        "outputId": "303b6830-43a4-496f-a46d-09f400f09200"
      },
      "execution_count": null,
      "outputs": [
        {
          "output_type": "stream",
          "name": "stdout",
          "text": [
            "The odd number is [1, -3, 5, 9].\n",
            "The even number is [-20, 0, 12].\n",
            "The positive number is [1, 5, 9, 12].\n"
          ]
        }
      ]
    },
    {
      "cell_type": "code",
      "source": [
        "university = [{'name': 'NYU', \n",
        "               'city': 'New York'}, \n",
        "              {'name': 'NUS', \n",
        "               'city': \"Singapore\"}]\n",
        "\n",
        "names = list(filter(lambda x: x['name'] == 'NUS', university))\n",
        "print(names)"
      ],
      "metadata": {
        "id": "toYhdGrDPOxW",
        "outputId": "fc242cdc-4b88-40b0-f307-dc302b5155c7",
        "colab": {
          "base_uri": "https://localhost:8080/"
        }
      },
      "execution_count": null,
      "outputs": [
        {
          "output_type": "stream",
          "name": "stdout",
          "text": [
            "[{'name': 'NUS', 'city': 'Singapore'}]\n"
          ]
        }
      ]
    }
  ]
}